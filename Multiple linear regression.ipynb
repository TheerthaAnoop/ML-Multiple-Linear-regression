{
 "cells": [
  {
   "cell_type": "code",
   "execution_count": 1,
   "id": "90c53f57",
   "metadata": {},
   "outputs": [],
   "source": [
    "import numpy as np\n",
    "import sys\n",
    "import numpy.random as rand"
   ]
  },
  {
   "cell_type": "code",
   "execution_count": 2,
   "id": "ada2ab50",
   "metadata": {},
   "outputs": [
    {
     "name": "stdout",
     "output_type": "stream",
     "text": [
      "np.zeros(4): a=[0. 0. 0. 0.] a shape=(4,) a data type=float64\n",
      "np.zeros(4,): a=[0. 0. 0. 0.] a shape=(4,) a data type=float64\n",
      "np.random.random_sample(4): a=[0.38985084 0.17509948 0.69371162 0.37690914] a shape=(4,) a data type=float64\n"
     ]
    }
   ],
   "source": [
    "a=np.zeros(4);\n",
    "print(f\"np.zeros(4): a={a} a shape={a.shape} a data type={a.dtype}\")\n",
    "a=np.zeros((4,));\n",
    "print(f\"np.zeros(4,): a={a} a shape={a.shape} a data type={a.dtype}\")\n",
    "a=np.random.random_sample(4);\n",
    "print(f\"np.random.random_sample(4): a={a} a shape={a.shape} a data type={a.dtype}\")"
   ]
  },
  {
   "cell_type": "code",
   "execution_count": 6,
   "id": "cb50023c",
   "metadata": {},
   "outputs": [
    {
     "name": "stdout",
     "output_type": "stream",
     "text": [
      "np_dot(a,b)=24\n"
     ]
    }
   ],
   "source": [
    "a=np.array([1,2,3,4])\n",
    "b=np.array([-1,4,3,2])\n",
    "print(f\"np_dot(a,b)={np.dot(a,b)}\")"
   ]
  },
  {
   "cell_type": "code",
   "execution_count": 7,
   "id": "4094540d",
   "metadata": {},
   "outputs": [
    {
     "name": "stdout",
     "output_type": "stream",
     "text": [
      "numpy 1-D np.dot(a,b)=24 np.dot(a,b).shape=()\n",
      "numpy 1-D np.dot(b,a)=24 np.dot(a,b).shape=()\n"
     ]
    }
   ],
   "source": [
    "a=np.array([1,2,3,4])\n",
    "b=np.array([-1,4,3,2])\n",
    "c=np.dot(a,b)\n",
    "print(f\"numpy 1-D np.dot(a,b)={c} np.dot(a,b).shape={c.shape}\")\n",
    "c=np.dot(b,a)\n",
    "print(f\"numpy 1-D np.dot(b,a)={c} np.dot(a,b).shape={c.shape}\")"
   ]
  },
  {
   "cell_type": "code",
   "execution_count": 10,
   "id": "7b01d8f1",
   "metadata": {},
   "outputs": [
    {
     "name": "stdout",
     "output_type": "stream",
     "text": [
      "np.dot(a,b)=249825.023379\n",
      "vectorised version duration:1.754761ms\n",
      "my_dot(a,b)=249825.023379\n",
      "loop version duration:2.003670ms\n"
     ]
    }
   ],
   "source": [
    "import time\n",
    "np.random.seed(1)\n",
    "a=np.random.rand(1000000)\n",
    "b=np.random.rand(1000000)\n",
    "\n",
    "tic=time.time()\n",
    "c=np.dot(a,b)\n",
    "toc=time.time()\n",
    "print(f\"np.dot(a,b)={c:4f}\")\n",
    "print(f\"vectorised version duration:{1000*(toc-tic):4f}ms\")\n",
    "\n",
    "tic=time.time()\n",
    "c=np.dot(a,b)\n",
    "toc=time.time()\n",
    "print(f\"my_dot(a,b)={c:4f}\")\n",
    "print(f\"loop version duration:{1000*(toc-tic):4f}ms\")\n",
    "\n",
    "\n",
    "del(a)\n",
    "del(b)\n"
   ]
  },
  {
   "cell_type": "code",
   "execution_count": null,
   "id": "d68b07ca",
   "metadata": {},
   "outputs": [],
   "source": []
  }
 ],
 "metadata": {
  "kernelspec": {
   "display_name": "Python 3 (ipykernel)",
   "language": "python",
   "name": "python3"
  },
  "language_info": {
   "codemirror_mode": {
    "name": "ipython",
    "version": 3
   },
   "file_extension": ".py",
   "mimetype": "text/x-python",
   "name": "python",
   "nbconvert_exporter": "python",
   "pygments_lexer": "ipython3",
   "version": "3.9.13"
  }
 },
 "nbformat": 4,
 "nbformat_minor": 5
}
